{
 "cells": [
  {
   "cell_type": "code",
   "execution_count": 9,
   "id": "27ec8779",
   "metadata": {},
   "outputs": [],
   "source": [
    "import pandas as pd \n",
    "import numpy as np\n",
    "import torch\n",
    "from torch.utils.data import Dataset, DataLoader\n",
    "from torchvision import transforms, utils\n",
    "from PIL import Image\n",
    "from io import BytesIO\n",
    "import random\n",
    "from zipfile import ZipFile\n",
    "from sklearn.utils import shuffle"
   ]
  },
  {
   "cell_type": "code",
   "execution_count": 31,
   "id": "524b2a9d",
   "metadata": {},
   "outputs": [],
   "source": [
    "def _is_pil_image(img):\n",
    "    return isinstance(img, Image.Image)\n",
    "\n",
    "def _is_numpy_image(img):\n",
    "    return isinstance(img, np.ndarray) and (img.ndim in {2, 3})\n",
    "\n",
    "def loadZip(zipfile) :\n",
    "    data = {}\n",
    "    with ZipFile(zipfile, 'r') as zipObj: \n",
    "        for name in zipObj.namelist() :\n",
    "            data[name] = zipObj.read(name)\n",
    "#             print(name)\n",
    "    nyu_train = list((row.split(',') for row in (data['nyu_data/data/nyu2_train.csv']).decode(\"utf-8\").split('\\n') if len(row) > 0))\n",
    "    nyu2_train = shuffle(nyu_train, random_state=0)\n",
    "\n",
    "    return data, nyu2_train"
   ]
  },
  {
   "cell_type": "code",
   "execution_count": 32,
   "id": "7f8353ba",
   "metadata": {},
   "outputs": [],
   "source": [
    "zipPath = f'nyu_v2.zip'\n",
    "data, nyu2_train = loadZip(zipPath)"
   ]
  },
  {
   "cell_type": "code",
   "execution_count": 33,
   "id": "4270e048",
   "metadata": {},
   "outputs": [
    {
     "data": {
      "text/plain": [
       "102686"
      ]
     },
     "execution_count": 33,
     "metadata": {},
     "output_type": "execute_result"
    }
   ],
   "source": [
    "len(data)"
   ]
  },
  {
   "cell_type": "code",
   "execution_count": null,
   "id": "8a824aee",
   "metadata": {},
   "outputs": [],
   "source": []
  }
 ],
 "metadata": {
  "kernelspec": {
   "display_name": "Python 3 (ipykernel)",
   "language": "python",
   "name": "python3"
  },
  "language_info": {
   "codemirror_mode": {
    "name": "ipython",
    "version": 3
   },
   "file_extension": ".py",
   "mimetype": "text/x-python",
   "name": "python",
   "nbconvert_exporter": "python",
   "pygments_lexer": "ipython3",
   "version": "3.7.13"
  }
 },
 "nbformat": 4,
 "nbformat_minor": 5
}
